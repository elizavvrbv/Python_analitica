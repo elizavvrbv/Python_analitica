{
 "cells": [
  {
   "cell_type": "markdown",
   "id": "d0abcf50",
   "metadata": {},
   "source": [
    "## Задача 1"
   ]
  },
  {
   "cell_type": "markdown",
   "id": "899f0531",
   "metadata": {},
   "source": [
    "Оформляйте ноутбук, используя эти советы:\n",
    "\n",
    "Номер задачи - ## заголовок2\n",
    "\n",
    "Номер подзадачи - ### заголовок 3\n",
    "\n",
    "Предоставленные наборы данных оформляйте, как код"
   ]
  },
  {
   "cell_type": "markdown",
   "id": "2bfb5286",
   "metadata": {},
   "source": [
    "## Задача 2"
   ]
  },
  {
   "cell_type": "markdown",
   "id": "fea6fbd5",
   "metadata": {},
   "source": [
    "На складе лежат разные фрукты в разном количестве. Нужно написать функцию, которая на вход принимает любое количество названий фруктов и их количество, а возвращает общее количество фруктов на складе"
   ]
  },
  {
   "cell_type": "code",
   "execution_count": 1,
   "id": "bb346248",
   "metadata": {},
   "outputs": [],
   "source": [
    "def fructus(**kwargs):\n",
    "    \n",
    "    total_fructus = sum(kwargs.values())\n",
    "    \n",
    "    return f'Total fructus: {total_fructus}'"
   ]
  },
  {
   "cell_type": "code",
   "execution_count": 2,
   "id": "5611abbc",
   "metadata": {},
   "outputs": [
    {
     "name": "stdout",
     "output_type": "stream",
     "text": [
      "Total fructus: 85\n",
      "None\n"
     ]
    }
   ],
   "source": [
    "print(print(fructus(apples=26, pears=18, bananas=41)))"
   ]
  },
  {
   "cell_type": "markdown",
   "id": "8db39c55",
   "metadata": {},
   "source": [
    "# Задача 3"
   ]
  },
  {
   "cell_type": "markdown",
   "id": "5c9a2e7a",
   "metadata": {},
   "source": [
    "Дан список с затратами на рекламу. Но в данных есть ошибки, некоторые затраты имеют отрицательную величину. Удалите такие значения из списка и посчитайте суммарные затраты"
   ]
  },
  {
   "cell_type": "code",
   "execution_count": 3,
   "id": "1099b010",
   "metadata": {},
   "outputs": [
    {
     "data": {
      "text/plain": [
       "[100, 125, -90, 345, 655, -1, 0, 200]"
      ]
     },
     "execution_count": 3,
     "metadata": {},
     "output_type": "execute_result"
    }
   ],
   "source": [
    "[100, 125, -90, 345, 655, -1, 0, 200]"
   ]
  },
  {
   "cell_type": "code",
   "execution_count": 4,
   "id": "783c50aa",
   "metadata": {},
   "outputs": [],
   "source": [
    "def expenses(data: list):\n",
    "    \n",
    "    new_data = []\n",
    "    \n",
    "    for i in data:\n",
    "        if i > 0:\n",
    "            new_data.append(i)\n",
    "            \n",
    "    print(new_data)\n",
    "    print(f'Total expenses: {sum(new_data)}')"
   ]
  },
  {
   "cell_type": "code",
   "execution_count": 5,
   "id": "f1fcfd7c",
   "metadata": {},
   "outputs": [
    {
     "name": "stdout",
     "output_type": "stream",
     "text": [
      "[100, 125, 345, 655, 200]\n",
      "Total expenses: 1425\n"
     ]
    }
   ],
   "source": [
    "data = [100, 125, -90, 345, 655, -1, 0, 200]\n",
    "\n",
    "expenses(data)"
   ]
  },
  {
   "cell_type": "markdown",
   "id": "bc167f3b",
   "metadata": {},
   "source": [
    "# Задача 4 "
   ]
  },
  {
   "cell_type": "markdown",
   "id": "82aa0302",
   "metadata": {},
   "source": [
    "Даны два списка.\n"
   ]
  },
  {
   "cell_type": "markdown",
   "id": "fb704890",
   "metadata": {},
   "source": [
    "Дата покупки"
   ]
  },
  {
   "cell_type": "code",
   "execution_count": 7,
   "id": "b8add8e3",
   "metadata": {},
   "outputs": [
    {
     "data": {
      "text/plain": [
       "['2021-09-14',\n",
       " '2021-12-15',\n",
       " '2021-09-08',\n",
       " '2021-12-05',\n",
       " '2021-10-09',\n",
       " '2021-09-30',\n",
       " '2021-12-22',\n",
       " '2021-11-29',\n",
       " '2021-12-24',\n",
       " '2021-11-26',\n",
       " '2021-10-27',\n",
       " '2021-12-18',\n",
       " '2021-11-09',\n",
       " '2021-11-23',\n",
       " '2021-09-27',\n",
       " '2021-10-02',\n",
       " '2021-12-27',\n",
       " '2021-09-20',\n",
       " '2021-12-13',\n",
       " '2021-11-01',\n",
       " '2021-11-09',\n",
       " '2021-12-06',\n",
       " '2021-12-08',\n",
       " '2021-10-09',\n",
       " '2021-10-31',\n",
       " '2021-09-30',\n",
       " '2021-11-09',\n",
       " '2021-12-13',\n",
       " '2021-10-26',\n",
       " '2021-12-09']"
      ]
     },
     "execution_count": 7,
     "metadata": {},
     "output_type": "execute_result"
    }
   ],
   "source": [
    "['2021-09-14', '2021-12-15', '2021-09-08', '2021-12-05', '2021-10-09', '2021-09-30', '2021-12-22', '2021-11-29', '2021-12-24', '2021-11-26', '2021-10-27', '2021-12-18', '2021-11-09', '2021-11-23', '2021-09-27', '2021-10-02', '2021-12-27', '2021-09-20', '2021-12-13', '2021-11-01', '2021-11-09', '2021-12-06', '2021-12-08', '2021-10-09', '2021-10-31', '2021-09-30', '2021-11-09', '2021-12-13', '2021-10-26', '2021-12-09']"
   ]
  },
  {
   "cell_type": "markdown",
   "id": "414904c2",
   "metadata": {},
   "source": [
    "Суммы покупок по датам"
   ]
  },
  {
   "cell_type": "code",
   "execution_count": 8,
   "id": "0c51958c",
   "metadata": {},
   "outputs": [
    {
     "data": {
      "text/plain": [
       "[1270,\n",
       " 8413,\n",
       " 9028,\n",
       " 3703,\n",
       " 5739,\n",
       " 4095,\n",
       " 295,\n",
       " 4944,\n",
       " 5723,\n",
       " 3701,\n",
       " 4471,\n",
       " 651,\n",
       " 7037,\n",
       " 4274,\n",
       " 6275,\n",
       " 4988,\n",
       " 6930,\n",
       " 2971,\n",
       " 6592,\n",
       " 2004,\n",
       " 2822,\n",
       " 519,\n",
       " 3406,\n",
       " 2732,\n",
       " 5015,\n",
       " 2008,\n",
       " 316,\n",
       " 6333,\n",
       " 5700,\n",
       " 2887]"
      ]
     },
     "execution_count": 8,
     "metadata": {},
     "output_type": "execute_result"
    }
   ],
   "source": [
    "[1270, 8413, 9028, 3703, 5739, 4095, 295, 4944, 5723, 3701, 4471, 651, 7037, 4274, 6275, 4988, 6930, 2971, 6592, 2004, 2822, 519, 3406, 2732, 5015, 2008, 316, 6333, 5700, 2887]"
   ]
  },
  {
   "cell_type": "markdown",
   "id": "1901f98a",
   "metadata": {},
   "source": [
    "### 4.1"
   ]
  },
  {
   "cell_type": "markdown",
   "id": "0506181b",
   "metadata": {},
   "source": [
    "Найдите, какая выручка у компании в ноябре"
   ]
  },
  {
   "cell_type": "code",
   "execution_count": 4,
   "id": "4815b557",
   "metadata": {},
   "outputs": [],
   "source": [
    "date = ['2021-09-14', '2021-12-15', '2021-09-08', '2021-12-05', '2021-10-09', \n",
    "        '2021-09-30', '2021-12-22', '2021-11-29', '2021-12-24', '2021-11-26', \n",
    "        '2021-10-27', '2021-12-18', '2021-11-09', '2021-11-23', '2021-09-27', \n",
    "        '2021-10-02', '2021-12-27', '2021-09-20', '2021-12-13', '2021-11-01', \n",
    "        '2021-11-09', '2021-12-06', '2021-12-08', '2021-10-09', '2021-10-31', \n",
    "        '2021-09-30', '2021-11-09', '2021-12-13', '2021-10-26', '2021-12-09']\n",
    "amount = [1270, 8413, 9028, 3703, 5739, 4095, 295, 4944, 5723, 3701, \n",
    "        4471, 651, 7037, 4274, 6275, 4988, 6930, 2971, 6592, 2004, \n",
    "        2822, 519, 3406, 2732, 5015, 2008, 316, 6333, 5700, 2887]"
   ]
  },
  {
   "cell_type": "code",
   "execution_count": 5,
   "id": "7c5973ff",
   "metadata": {},
   "outputs": [],
   "source": [
    "def november(data1: list, data2: list) -> list:\n",
    "    \n",
    "    new_data = []\n",
    "    \n",
    "    for i in range(len(data1)-1):\n",
    "        if '-11-' in data1[i]:\n",
    "            new_data.append(data2[i])\n",
    "            \n",
    "    return new_data"
   ]
  },
  {
   "cell_type": "code",
   "execution_count": 6,
   "id": "0a88b990",
   "metadata": {},
   "outputs": [
    {
     "name": "stdout",
     "output_type": "stream",
     "text": [
      "[4944, 3701, 7037, 4274, 2004, 2822, 316]\n",
      "Profit: 25098\n"
     ]
    }
   ],
   "source": [
    "print(november(date, amount))\n",
    "print(f'Profit: {sum(november(date, amount))}')"
   ]
  },
  {
   "cell_type": "code",
   "execution_count": 7,
   "id": "f50a4a6d",
   "metadata": {},
   "outputs": [
    {
     "name": "stdout",
     "output_type": "stream",
     "text": [
      "[4944, 3701, 7037, 4274, 2004, 2822, 316]\n",
      "Profit: 25098\n"
     ]
    }
   ],
   "source": [
    "print([amount[i] for i in range(0, len(date)-1) if \"-11\" in date[i]])\n",
    "print(f'Profit: {sum([amount[i] for i in range(len(date)-1) if \"-11\" in date[i]])}')"
   ]
  },
  {
   "cell_type": "markdown",
   "id": "4c57f64c",
   "metadata": {},
   "source": [
    "# Заголовок 4.2"
   ]
  },
  {
   "cell_type": "markdown",
   "id": "d59d0e34",
   "metadata": {},
   "source": [
    "Найдите выручку компании в зависимости от месяца Для этого напишите функцию, которая на вход принимает список с датами и список с выручкой, а на выходе словарь, где ключи - это месяцы, а значения - это выручка. Используйте аннотирование типов."
   ]
  },
  {
   "cell_type": "code",
   "execution_count": 10,
   "id": "71014b46",
   "metadata": {},
   "outputs": [
    {
     "ename": "NameError",
     "evalue": "name 'cost' is not defined",
     "output_type": "error",
     "traceback": [
      "\u001b[1;31m---------------------------------------------------------------------------\u001b[0m",
      "\u001b[1;31mNameError\u001b[0m                                 Traceback (most recent call last)",
      "\u001b[1;32m~\\AppData\\Local\\Temp\\ipykernel_13896\\571143466.py\u001b[0m in \u001b[0;36m<module>\u001b[1;34m\u001b[0m\n\u001b[0;32m     12\u001b[0m     \u001b[1;32mreturn\u001b[0m \u001b[0mprofits\u001b[0m\u001b[1;33m\u001b[0m\u001b[1;33m\u001b[0m\u001b[0m\n\u001b[0;32m     13\u001b[0m \u001b[1;33m\u001b[0m\u001b[0m\n\u001b[1;32m---> 14\u001b[1;33m \u001b[0mprint\u001b[0m\u001b[1;33m(\u001b[0m\u001b[0mprofits\u001b[0m\u001b[1;33m(\u001b[0m\u001b[0mdate\u001b[0m\u001b[1;33m,\u001b[0m \u001b[0mcost\u001b[0m\u001b[1;33m)\u001b[0m\u001b[1;33m)\u001b[0m\u001b[1;33m\u001b[0m\u001b[1;33m\u001b[0m\u001b[0m\n\u001b[0m",
      "\u001b[1;31mNameError\u001b[0m: name 'cost' is not defined"
     ]
    }
   ],
   "source": [
    "def profits(data1: list, data2: list) -> dict:\n",
    "    \n",
    "    profits = {}\n",
    "    \n",
    "    for i in range(len(data1)):\n",
    "        \n",
    "        if date[i].split('-')[1] in profits.keys():\n",
    "            profits[date[i].split('-')[1]] += cost[i]\n",
    "        else:\n",
    "            profits[date[i].split('-')[1]] = cost[i]\n",
    "            \n",
    "    return profits\n",
    "\n",
    "print(profits(date, cost))"
   ]
  },
  {
   "cell_type": "code",
   "execution_count": null,
   "id": "5a96b4cd",
   "metadata": {},
   "outputs": [],
   "source": []
  }
 ],
 "metadata": {
  "kernelspec": {
   "display_name": "Python 3 (ipykernel)",
   "language": "python",
   "name": "python3"
  },
  "language_info": {
   "codemirror_mode": {
    "name": "ipython",
    "version": 3
   },
   "file_extension": ".py",
   "mimetype": "text/x-python",
   "name": "python",
   "nbconvert_exporter": "python",
   "pygments_lexer": "ipython3",
   "version": "3.9.13"
  }
 },
 "nbformat": 4,
 "nbformat_minor": 5
}
